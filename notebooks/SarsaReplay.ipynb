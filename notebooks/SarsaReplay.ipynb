{
 "cells": [
  {
   "cell_type": "code",
   "execution_count": 1,
   "metadata": {
    "collapsed": true
   },
   "outputs": [],
   "source": [
    "%matplotlib inline\n",
    "import matplotlib.pyplot as plt\n",
    "import numpy as np\n",
    "import cPickle as pickle\n",
    "import sys\n",
    "current_dir = %pwd"
   ]
  },
  {
   "cell_type": "markdown",
   "metadata": {},
   "source": [
    "# Sarsa Replay using RAM Features\n",
    "We try different parameters N (replay times)."
   ]
  },
  {
   "cell_type": "code",
   "execution_count": 20,
   "metadata": {
    "collapsed": false
   },
   "outputs": [],
   "source": [
    "results_dir = current_dir + '/../results'\n",
    "replay_times = [1]\n",
    "Ns = len(replay_times)\n",
    "# 3 trials of 3000 episodes\n",
    "numtrials = 3\n",
    "numep = 3000\n",
    "\n",
    "steps = np.zeros((Ns, numtrials, numep))\n",
    "rewards = np.zeros((Ns, numtrials, numep))\n",
    "\n",
    "for replay_idx, replay in enumerate(replay_times):\n",
    "    for trial in range(num_trials):\n",
    "        with open(results_dir + '/replay_{}/results/replaySARSA_RAM_{}.log'.format(\n",
    "                                replay, trial+1)) as f:\n",
    "            log = pickle.load(f)\n",
    "            steps[replay_idx,trial,:] = np.array(log['steps'])\n",
    "            rewards[replay_idx,trial,:] = np.array(log['reward'])"
   ]
  },
  {
   "cell_type": "markdown",
   "metadata": {},
   "source": [
    "Calculate basic statistics of number of steps over different trials"
   ]
  },
  {
   "cell_type": "code",
   "execution_count": 28,
   "metadata": {
    "collapsed": false
   },
   "outputs": [
    {
     "name": "stdout",
     "output_type": "stream",
     "text": [
      "An average of 67.6563333333 steps\n"
     ]
    }
   ],
   "source": [
    "from scipy import stats\n",
    "mean_steps = np.mean(steps,axis=2) #average steps\n",
    "err = stats.sem(steps,axis=1) #standard error of mean\n",
    "print \"An average of %s steps\" % str(np.mean(mean_steps))\n",
    "\n",
    "#statistics for first 500 episodes\n",
    "mean_500 = np.mean(steps[:500:],axis=2)\n",
    "err_500 = stats.sem(steps[:500:],axis=2) #standard error of mean "
   ]
  },
  {
   "cell_type": "markdown",
   "metadata": {},
   "source": [
    "\n",
    "Plot learning curves with 95% confidence (t_dist standard error Note: this assumes normal distribution of means, probably not true here)"
   ]
  },
  {
   "cell_type": "code",
   "execution_count": null,
   "metadata": {
    "collapsed": false
   },
   "outputs": [],
   "source": [
    "plt.figure(figsize=(12,8))\n",
    "\n",
    "confidence = 0.95\n",
    "#factor for given confidence and number of trials\n",
    "t = stats.t._ppf((1+confidence)/2., numtrials-1)\n",
    "\n",
    "color='blue'\n",
    "plt.plot(mean_steps)\n",
    "plt.fill_between(np.arange(numep),(mean_steps-t*err),(mean_steps+t*err),alpha=0.3,color=color)\n",
    "\n",
    "plt.xlabel('episode')\n",
    "plt.ylabel('#steps')\n",
    "plt.ylim((0,np.max(mean_steps+t*err)))\n",
    "plt.title('Learning curve averaged over {} trials'.format(numtrials))"
   ]
  },
  {
   "cell_type": "code",
   "execution_count": null,
   "metadata": {
    "collapsed": true
   },
   "outputs": [],
   "source": []
  }
 ],
 "metadata": {
  "kernelspec": {
   "display_name": "Python 2",
   "language": "python",
   "name": "python2"
  },
  "language_info": {
   "codemirror_mode": {
    "name": "ipython",
    "version": 2
   },
   "file_extension": ".py",
   "mimetype": "text/x-python",
   "name": "python",
   "nbconvert_exporter": "python",
   "pygments_lexer": "ipython2",
   "version": "2.7.11"
  }
 },
 "nbformat": 4,
 "nbformat_minor": 0
}
