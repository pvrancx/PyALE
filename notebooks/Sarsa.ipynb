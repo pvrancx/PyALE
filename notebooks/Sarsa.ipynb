{
 "cells": [
  {
   "cell_type": "code",
   "execution_count": 1,
   "metadata": {
    "collapsed": true
   },
   "outputs": [],
   "source": [
    "import sys\n",
    "sys.path.append('/Users/pvrancx/Documents/Code/PyALE/src')"
   ]
  },
  {
   "cell_type": "code",
   "execution_count": 2,
   "metadata": {
    "collapsed": true
   },
   "outputs": [],
   "source": [
    "# %load ../src/util/RLGlueRunner.py\n",
    "from multiprocessing import Process\n",
    "import os\n",
    "import rlglue.RLGlue as RLGlue\n",
    "from rlglue.agent import AgentLoader as AgentLoader\n",
    "\n",
    "\n",
    "\n",
    "def run_rlglue():\n",
    "    os.system('rl_glue')\n",
    "    \n",
    "def run_ale(ale_path,game):\n",
    "    ale_str = ''+ale_path + '/ale -display_screen false -game_controller rlglue -frame_skip 5 -disable_colour_averaging -use_environment_distribution '+ale_path +'/roms/'+game \n",
    "    os.system(ale_str)   \n",
    "\n",
    "def run_experiment(maxsteps=100,numeps=1):\n",
    "    taskSpec = RLGlue.RL_init()\n",
    "    for ep in range(numeps):\n",
    "        terminal=RLGlue.RL_episode(maxsteps)\n",
    "        totalSteps=RLGlue.RL_num_steps()\n",
    "        totalReward=RLGlue.RL_return()\n",
    "        print \"Episode \"+str(ep)+\"\\t \"+str(totalSteps)+ \" steps \\t\" + str(totalReward) + \" total reward\\t \" + str(terminal) + \" natural end\"\n",
    "    RLGlue.RL_cleanup()\n",
    "    \n",
    "def run_agent(agent=None):\n",
    "    AgentLoader.loadAgent(agent)\n",
    "    \n",
    "class RLGlueRunner(object):\n",
    "    procs = []\n",
    "    \n",
    "    def __init__(self,host='127.0.0.1',port='4096',ale_path = '.',\n",
    "                 game = 'space_invaders.bin',agent=None,num_eps=1,max_steps=100):\n",
    "        self.host = host\n",
    "        self.port = port\n",
    "        self.ale_path = ale_path\n",
    "        self.game = game\n",
    "        self.agent = agent\n",
    "        self.num_eps = num_eps\n",
    "        self.max_steps = max_steps\n",
    "        \n",
    "    def create_procs(self):\n",
    "        self.procs = []\n",
    "        self.procs.append(Process(target=run_rlglue))\n",
    "        self.procs.append(Process(target=run_ale,args=(self.ale_path,self.game)))\n",
    "        self.procs.append(Process(target=run_experiment,args=(self.max_steps,self.num_eps)))\n",
    "        self.procs.append(Process(target=run_agent,args=(self.agent,)))\n",
    "        \n",
    "    def run(self):\n",
    "        os.environ['RLGLUE_HOST'] = self.host\n",
    "        os.environ['RLGLUE_PORT'] = self.port\n",
    "        self.create_procs()\n",
    "        for p in self.procs:\n",
    "            p.start()\n",
    "            \n",
    "    def is_finished(self):\n",
    "        return reduce(lambda x,y: x and y,map(lambda x: not x.is_alive(),self.procs))\n",
    "                        \n",
    "    def terminate(self):\n",
    "        for p in self.procs:\n",
    "            p.terminate()\n",
    "    "
   ]
  },
  {
   "cell_type": "code",
   "execution_count": 3,
   "metadata": {
    "collapsed": false
   },
   "outputs": [],
   "source": [
    "from agents.ALESarsaAgent import RAMALESarsaAgent\n",
    "\n",
    "agent= RAMALESarsaAgent(alpha=0.5,lambda_=0.9,gamma=0.999,agent_id=2)\n",
    "runner= RLGlueRunner(ale_path ='~/Documents/Projects/ALE/ale4',agent=agent,num_eps=10,max_steps=2000)\n",
    "runner.run()"
   ]
  },
  {
   "cell_type": "code",
   "execution_count": 9,
   "metadata": {
    "collapsed": false
   },
   "outputs": [
    {
     "name": "stdout",
     "output_type": "stream",
     "text": [
      "Episode 6\t 416 steps \t15.0 total reward\t 1 natural end\n",
      "Episode 7\t 708 steps \t355.0 total reward\t 1 natural end\n"
     ]
    },
    {
     "data": {
      "text/plain": [
       "False"
      ]
     },
     "execution_count": 9,
     "metadata": {},
     "output_type": "execute_result"
    }
   ],
   "source": [
    "runner.is_finished()"
   ]
  },
  {
   "cell_type": "code",
   "execution_count": 17,
   "metadata": {
    "collapsed": false
   },
   "outputs": [],
   "source": [
    "runner.terminate()"
   ]
  },
  {
   "cell_type": "code",
   "execution_count": 5,
   "metadata": {
    "collapsed": false
   },
   "outputs": [],
   "source": [
    "import cPickle as pickle\n",
    "with open('SARSA_log.0','rb') as f:\n",
    "    log = pickle.load(f)\n"
   ]
  },
  {
   "cell_type": "code",
   "execution_count": 6,
   "metadata": {
    "collapsed": false
   },
   "outputs": [
    {
     "name": "stdout",
     "output_type": "stream",
     "text": [
      "{'reward': [440.0, 180.0], 'steps': [593, 491]}\n"
     ]
    }
   ],
   "source": [
    "print log"
   ]
  },
  {
   "cell_type": "code",
   "execution_count": 11,
   "metadata": {
    "collapsed": false
   },
   "outputs": [
    {
     "name": "stdout",
     "output_type": "stream",
     "text": [
      "BackgroundLearning.ipynb  SARSA_log.0               Untitled-Copy1.ipynb      Untitled1.ipynb           frames\r\n",
      "LoggingFrames.ipynb       Sarsa.ipynb               Untitled.ipynb            \u001b[34mdata\u001b[m\u001b[m/                     \u001b[34mstate\u001b[m\u001b[m/\r\n"
     ]
    }
   ],
   "source": [
    "ls"
   ]
  },
  {
   "cell_type": "code",
   "execution_count": 6,
   "metadata": {
    "collapsed": false
   },
   "outputs": [],
   "source": [
    "import cPickle as pickle\n",
    "with open('../src/SARSA_log.None','rb') as f:\n",
    "    d = pickle.load(f)"
   ]
  },
  {
   "cell_type": "code",
   "execution_count": 16,
   "metadata": {
    "collapsed": false
   },
   "outputs": [
    {
     "data": {
      "text/plain": [
       "[<matplotlib.lines.Line2D at 0x10bd94450>]"
      ]
     },
     "execution_count": 16,
     "metadata": {},
     "output_type": "execute_result"
    },
    {
     "data": {
      "image/png": "[encoded data removed]",
      "text/plain": [
       "<matplotlib.figure.Figure at 0x10bd58fd0>"
      ]
     },
     "metadata": {},
     "output_type": "display_data"
    }
   ],
   "source": [
    "%matplotlib inline\n",
    "import matplotlib.pyplot as plt\n",
    "import numpy as np\n",
    "\n",
    "def avg_rew(data,w):\n",
    "    return np.convolve(data,np.ones(w),mode='valid')/float(w)\n",
    "\n",
    "plt.plot(avg_rew(d['reward'],100))"
   ]
  },
  {
   "cell_type": "code",
   "execution_count": 5,
   "metadata": {
    "collapsed": false
   },
   "outputs": [
    {
     "name": "stdout",
     "output_type": "stream",
     "text": [
      "Episode 744\t 2 steps \t0.0 total reward\t 33728 natural end\n",
      "Episode 745\t 2 steps \t0.0 total reward\t 33728 natural end\n",
      "Episode 746\t 2 steps \t0.0 total reward\t 33728 natural end\n",
      "Episode 747\t 2 steps \t0.0 total reward\t 33728 natural end\n",
      "Episode 748\t 2 steps \t0.0 total reward\t 33728 natural end\n",
      "Episode 749\t 2 steps \t0.0 total reward\t 33728 natural end\n",
      "Episode 750\t 2 steps \t0.0 total reward\t 33728 natural end\n",
      "Episode 751\t 2 steps \t0.0 total reward\t 33728 natural end\n",
      "Episode 752\t 2 steps \t0.0 total reward\t 33728 natural end\n",
      "Episode 753\t 2 steps \t0.0 total reward\t 33728 natural end\n",
      "Episode 754\t 2 steps \t0.0 total reward\t 33728 natural end\n",
      "Episode 755\t 2 steps \t0.0 total reward\t 33728 natural end\n",
      "Episode 756\t 2 steps \t0.0 total reward\t 33728 natural end\n",
      "Episode 757\t 2 steps \t0.0 total reward\t 33728 natural end\n",
      "Episode 758\t 2 steps \t0.0 total reward\t 33728 natural end\n",
      "Episode 759\t 2 steps \t0.0 total reward\t 33728 natural end\n",
      "Episode 760\t 2 steps \t0.0 total reward\t 33728 natural end\n",
      "Episode 761\t 2 steps \t0.0 total reward\t 33728 natural end\n",
      "Episode 762\t 2 steps \t0.0 total reward\t 33728 natural end\n",
      "Episode 763\t 2 steps \t0.0 total reward\t 33728 natural end\n",
      "Episode 764\t 2 steps \t0.0 total reward\t 33728 natural end\n",
      "Episode 765\t 2 steps \t0.0 total reward\t 33728 natural end\n",
      "Episode 766\t 2 steps \t0.0 total reward\t 33728 natural end\n",
      "Episode 767\t 2 steps \t0.0 total reward\t 33728 natural end\n",
      "Episode 768\t 2 steps \t0.0 total reward\t 33728 natural end\n",
      "Episode 769\t 2 steps \t0.0 total reward\t 33728 natural end\n",
      "Episode 770\t 2 steps \t0.0 total reward\t 33728 natural end\n",
      "Episode 771\t 2 steps \t0.0 total reward\t 33728 natural end\n",
      "Episode 772\t 2 steps \t0.0 total reward\t 33728 natural end\n",
      "Episode 773\t 2 steps \t0.0 total reward\t 33728 natural end\n",
      "Episode 774\t 2 steps \t0.0 total reward\t 33728 natural end\n",
      "Episode 775\t 2 steps \t0.0 total reward\t 33728 natural end\n",
      "Episode 776\t 2 steps \t0.0 total reward\t 33728 natural end\n",
      "Episode 777\t 2 steps \t0.0 total reward\t 33728 natural end\n",
      "Episode 778\t 2 steps \t0.0 total reward\t 33728 natural end\n",
      "Episode 779\t 2 steps \t0.0 total reward\t 33728 natural end\n",
      "Episode 780\t 2 steps \t0.0 total reward\t 33728 natural end\n",
      "Episode 781\t 2 steps \t0.0 total reward\t 33728 natural end\n",
      "Episode 782\t 2 steps \t0.0 total reward\t 33728 natural end\n",
      "Episode 783\t 2 steps \t0.0 total reward\t 33728 natural end\n",
      "Episode 784\t 2 steps \t0.0 total reward\t 33728 natural end\n",
      "Episode 785\t 2 steps \t0.0 total reward\t 33728 natural end\n",
      "Episode 786\t 2 steps \t0.0 total reward\t 33728 natural end\n",
      "Episode 787\t 2 steps \t0.0 total reward\t 33728 natural end\n",
      "Episode 788\t 2 steps \t0.0 total reward\t 33728 natural end\n",
      "Episode 789\t 2 steps \t0.0 total reward\t 33728 natural end\n",
      "Episode 790\t 2 steps \t0.0 total reward\t 33728 natural end\n",
      "Episode 791\t 2 steps \t0.0 total reward\t 33728 natural end\n",
      "Episode 792\t 2 steps \t0.0 total reward\t 33728 natural end\n",
      "Episode 793\t 2 steps \t0.0 total reward\t 33728 natural end\n",
      "Episode 794\t 2 steps \t0.0 total reward\t 33728 natural end\n",
      "Episode 795\t 2 steps \t0.0 total reward\t 33728 natural end\n",
      "Episode 796\t 2 steps \t0.0 total reward\t 33728 natural end\n",
      "Episode 797\t 2 steps \t0.0 total reward\t 33728 natural end\n",
      "Episode 798\t 2 steps \t0.0 total reward\t 33728 natural end\n",
      "Episode 799\t 2 steps \t0.0 total reward\t 33728 natural end\n",
      "Episode 800\t 2 steps \t0.0 total reward\t 33728 natural end\n",
      "Episode 801\t 2 steps \t0.0 total reward\t 33728 natural end\n",
      "Episode 802\t 2 steps \t0.0 total reward\t 33728 natural end\n",
      "Episode 803\t 2 steps \t0.0 total reward\t 33728 natural end\n",
      "Episode 804\t 2 steps \t0.0 total reward\t 33728 natural end\n",
      "Episode 805\t 2 steps \t0.0 total reward\t 33728 natural end\n",
      "Episode 806\t 2 steps \t0.0 total reward\t 33728 natural end\n",
      "Episode 807\t 2 steps \t0.0 total reward\t 33728 natural end\n",
      "Episode 808\t 2 steps \t0.0 total reward\t 33728 natural end\n",
      "Episode 809\t 2 steps \t0.0 total reward\t 33728 natural end\n",
      "Episode 810\t 2 steps \t0.0 total reward\t 33728 natural end\n",
      "Episode 811\t 2 steps \t0.0 total reward\t 33728 natural end\n",
      "Episode 812\t 2 steps \t0.0 total reward\t 33728 natural end\n",
      "Episode 813\t 2 steps \t0.0 total reward\t 33728 natural end\n",
      "Episode 814\t 2 steps \t0.0 total reward\t 33728 natural end\n",
      "Episode 815\t 2 steps \t0.0 total reward\t 33728 natural end\n",
      "Episode 816\t 2 steps \t0.0 total reward\t 33728 natural end\n",
      "Episode 817\t 2 steps \t0.0 total reward\t 33728 natural end\n",
      "Episode 818\t 2 steps \t0.0 total reward\t 33728 natural end\n",
      "Episode 819\t 2 steps \t0.0 total reward\t 33728 natural end\n",
      "Episode 820\t 2 steps \t0.0 total reward\t 33728 natural end\n",
      "Episode 821\t 2 steps \t0.0 total reward\t 33728 natural end\n",
      "Episode 822\t 2 steps \t0.0 total reward\t 33728 natural end\n",
      "Episode 823\t 2 steps \t0.0 total reward\t 33728 natural end\n",
      "Episode 824\t 2 steps \t0.0 total reward\t 33728 natural end\n",
      "Episode 825\t 2 steps \t0.0 total reward\t 33728 natural end\n",
      "Episode 826\t 2 steps \t0.0 total reward\t 33728 natural end\n",
      "Episode 827\t 2 steps \t0.0 total reward\t 33728 natural end\n",
      "Episode 828\t 2 steps \t0.0 total reward\t 33728 natural end\n",
      "Episode 829\t 2 steps \t0.0 total reward\t 33728 natural end\n",
      "Episode 830\t 2 steps \t0.0 total reward\t 33728 natural end\n",
      "Episode 831\t 2 steps \t0.0 total reward\t 33728 natural end\n",
      "Episode 832\t 2 steps \t0.0 total reward\t 33728 natural end\n",
      "Episode 833\t 2 steps \t0.0 total reward\t 33728 natural end\n",
      "Episode 834\t 2 steps \t0.0 total reward\t 33728 natural end\n",
      "Episode 835\t 2 steps \t0.0 total reward\t 33728 natural end\n",
      "Episode 836\t 2 steps \t0.0 total reward\t 33728 natural end\n",
      "Episode 837\t 2 steps \t0.0 total reward\t 33728 natural end\n",
      "Episode 838\t 2 steps \t0.0 total reward\t 33728 natural end\n",
      "Episode 839\t 2 steps \t0.0 total reward\t 33728 natural end\n",
      "Episode 840\t 2 steps \t0.0 total reward\t 33728 natural end\n",
      "Episode 841\t 2 steps \t0.0 total reward\t 33728 natural end\n",
      "Episode 842\t 2 steps \t0.0 total reward\t 33728 natural end\n",
      "Episode 843\t 2 steps \t0.0 total reward\t 33728 natural end\n",
      "Episode 844\t 2 steps \t0.0 total reward\t 33728 natural end\n",
      "Episode 845\t 2 steps \t0.0 total reward\t 33728 natural end\n",
      "Episode 846\t 2 steps \t0.0 total reward\t 33728 natural end\n",
      "Episode 847\t 2 steps \t0.0 total reward\t 33728 natural end\n",
      "Episode 848\t 2 steps \t0.0 total reward\t 33728 natural end\n",
      "Episode 849\t 2 steps \t0.0 total reward\t 33728 natural end\n",
      "Episode 850\t 2 steps \t0.0 total reward\t 33728 natural end\n",
      "Episode 851\t 2 steps \t0.0 total reward\t 33728 natural end\n",
      "Episode 852\t 2 steps \t0.0 total reward\t 33728 natural end\n",
      "Episode 853\t 2 steps \t0.0 total reward\t 33728 natural end\n",
      "Episode 854\t 2 steps \t0.0 total reward\t 33728 natural end\n",
      "Episode 855\t 2 steps \t0.0 total reward\t 33728 natural end\n",
      "Episode 856\t 2 steps \t0.0 total reward\t 33728 natural end\n",
      "Episode 857\t 2 steps \t0.0 total reward\t 33728 natural end\n",
      "Episode 858\t 2 steps \t0.0 total reward\t 33728 natural end\n",
      "Episode 859\t 2 steps \t0.0 total reward\t 33728 natural end\n",
      "Episode 860\t 2 steps \t0.0 total reward\t 33728 natural end\n",
      "Episode 861\t 2 steps \t0.0 total reward\t 33728 natural end\n",
      "Episode 862\t 2 steps \t0.0 total reward\t 33728 natural end\n",
      "Episode 863\t 2 steps \t0.0 total reward\t 33728 natural end\n",
      "Episode 864\t 2 steps \t0.0 total reward\t 33728 natural end\n",
      "Episode 865\t 2 steps \t0.0 total reward\t 33728 natural end\n",
      "Episode 866\t 2 steps \t0.0 total reward\t 33728 natural end\n",
      "Episode 867\t 2 steps \t0.0 total reward\t 33728 natural end\n",
      "Episode 868\t 2 steps \t0.0 total reward\t 33728 natural end\n",
      "Episode 869\t 2 steps \t0.0 total reward\t 33728 natural end\n",
      "Episode 870\t 2 steps \t0.0 total reward\t 33728 natural end\n",
      "Episode 871\t 2 steps \t0.0 total reward\t 33728 natural end\n",
      "Episode 872\t 2 steps \t0.0 total reward\t 33728 natural end\n",
      "Episode 873\t 2 steps \t0.0 total reward\t 33728 natural end\n",
      "Episode 874\t 2 steps \t0.0 total reward\t 33728 natural end\n",
      "Episode 875\t 2 steps \t0.0 total reward\t 33728 natural end\n",
      "Episode 876\t 2 steps \t0.0 total reward\t 33728 natural end\n",
      "Episode 877\t 2 steps \t0.0 total reward\t 33728 natural end\n",
      "Episode 878\t 2 steps \t0.0 total reward\t 33728 natural end\n",
      "Episode 879\t 2 steps \t0.0 total reward\t 33728 natural end\n",
      "Episode 880\t 2 steps \t0.0 total reward\t 33728 natural end\n",
      "Episode 881\t 2 steps \t0.0 total reward\t 33728 natural end\n",
      "Episode 882\t 2 steps \t0.0 total reward\t 33728 natural end\n",
      "Episode 883\t 2 steps \t0.0 total reward\t 33728 natural end\n",
      "Episode 884\t 2 steps \t0.0 total reward\t 33728 natural end\n",
      "Episode 885\t 2 steps \t0.0 total reward\t 33728 natural end\n",
      "Episode 886\t 2 steps \t0.0 total reward\t 33728 natural end\n",
      "Episode 887\t 2 steps \t0.0 total reward\t 33728 natural end\n",
      "Episode 888\t 2 steps \t0.0 total reward\t 33728 natural end\n",
      "Episode 889\t 2 steps \t0.0 total reward\t 33728 natural end\n",
      "Episode 890\t 2 steps \t0.0 total reward\t 33728 natural end\n",
      "Episode 891\t 2 steps \t0.0 total reward\t 33728 natural end\n",
      "Episode 892\t 2 steps \t0.0 total reward\t 33728 natural end\n",
      "Episode 893\t 2 steps \t0.0 total reward\t 33728 natural end\n",
      "Episode 894\t 2 steps \t0.0 total reward\t 33728 natural end\n",
      "Episode 895\t 2 steps \t0.0 total reward\t 33728 natural end\n",
      "Episode 896\t 2 steps \t0.0 total reward\t 33728 natural end\n",
      "Episode 897\t 2 steps \t0.0 total reward\t 33728 natural end\n",
      "Episode 898\t 2 steps \t0.0 total reward\t 33728 natural end\n",
      "Episode 899\t 2 steps \t0.0 total reward\t 33728 natural end\n",
      "Episode 900\t 2 steps \t0.0 total reward\t 33728 natural end\n",
      "Episode 901\t 2 steps \t0.0 total reward\t 33728 natural end\n",
      "Episode 902\t 2 steps \t0.0 total reward\t 33728 natural end\n",
      "Episode 903\t 2 steps \t0.0 total reward\t 33728 natural end\n",
      "Episode 904\t 2 steps \t0.0 total reward\t 33728 natural end\n",
      "Episode 905\t 2 steps \t0.0 total reward\t 33728 natural end\n",
      "Episode 906\t 2 steps \t0.0 total reward\t 33728 natural end\n",
      "Episode 907\t 2 steps \t0.0 total reward\t 33728 natural end\n",
      "Episode 908\t 2 steps \t0.0 total reward\t 33728 natural end\n",
      "Episode 909\t 2 steps \t0.0 total reward\t 33728 natural end\n",
      "Episode 910\t 2 steps \t0.0 total reward\t 33728 natural end\n",
      "Episode 911\t 2 steps \t0.0 total reward\t 33728 natural end\n",
      "Episode 912\t 2 steps \t0.0 total reward\t 33728 natural end\n",
      "Episode 913\t 2 steps \t0.0 total reward\t 33728 natural end\n",
      "Episode 914\t 2 steps \t0.0 total reward\t 33728 natural end\n",
      "Episode 915\t 2 steps \t0.0 total reward\t 33728 natural end\n",
      "Episode 916\t 2 steps \t0.0 total reward\t 33728 natural end\n",
      "Episode 917\t 2 steps \t0.0 total reward\t 33728 natural end\n",
      "Episode 918\t 2 steps \t0.0 total reward\t 33728 natural end\n",
      "Episode 919\t 2 steps \t0.0 total reward\t 33728 natural end\n",
      "Episode 920\t 2 steps \t0.0 total reward\t 33728 natural end\n",
      "Episode 921\t 2 steps \t0.0 total reward\t 33728 natural end\n",
      "Episode 922\t 2 steps \t0.0 total reward\t 33728 natural end\n",
      "Episode 923\t 2 steps \t0.0 total reward\t 33728 natural end\n",
      "Episode 924\t 2 steps \t0.0 total reward\t 33728 natural end\n",
      "Episode 925\t 2 steps \t0.0 total reward\t 33728 natural end\n",
      "Episode 926\t 2 steps \t0.0 total reward\t 33728 natural end\n",
      "Episode 927\t 2 steps \t0.0 total reward\t 33728 natural end\n",
      "Episode 928\t 2 steps \t0.0 total reward\t 33728 natural end\n",
      "Episode 929\t 2 steps \t0.0 total reward\t 33728 natural end\n",
      "Episode 930\t 2 steps \t0.0 total reward\t 33728 natural end\n",
      "Episode 931\t 2 steps \t0.0 total reward\t 33728 natural end\n",
      "Episode 932\t 2 steps \t0.0 total reward\t 33728 natural end\n",
      "Episode 933\t 2 steps \t0.0 total reward\t 33728 natural end\n",
      "Episode 934\t 2 steps \t0.0 total reward\t 33728 natural end\n",
      "Episode 935\t 2 steps \t0.0 total reward\t 33728 natural end\n",
      "Episode 936\t 2 steps \t0.0 total reward\t 33728 natural end\n",
      "Episode 937\t 2 steps \t0.0 total reward\t 33728 natural end\n",
      "Episode 938\t 2 steps \t0.0 total reward\t 33728 natural end\n",
      "Episode 939\t 2 steps \t0.0 total reward\t 33728 natural end\n",
      "Episode 940\t 2 steps \t0.0 total reward\t 33728 natural end\n",
      "Episode 941\t 2 steps \t0.0 total reward\t 33728 natural end\n",
      "Episode 942\t 2 steps \t0.0 total reward\t 33728 natural end\n",
      "Episode 943\t 2 steps \t0.0 total reward\t 33728 natural end\n",
      "Episode 944\t 2 steps \t0.0 total reward\t 33728 natural end\n",
      "Episode 945\t 2 steps \t0.0 total reward\t 33728 natural end\n",
      "Episode 946\t 2 steps \t0.0 total reward\t 33728 natural end\n",
      "Episode 947\t 2 steps \t0.0 total reward\t 33728 natural end\n",
      "Episode 948\t 2 steps \t0.0 total reward\t 33728 natural end\n",
      "Episode 949\t 2 steps \t0.0 total reward\t 33728 natural end\n",
      "Episode 950\t 2 steps \t0.0 total reward\t 33728 natural end\n",
      "Episode 951\t 2 steps \t0.0 total reward\t 33728 natural end\n",
      "Episode 952\t 2 steps \t0.0 total reward\t 33728 natural end\n",
      "Episode 953\t 2 steps \t0.0 total reward\t 33728 natural end\n",
      "Episode 954\t 2 steps \t0.0 total reward\t 33728 natural end\n",
      "Episode 955\t 2 steps \t0.0 total reward\t 33728 natural end\n",
      "Episode 956\t 2 steps \t0.0 total reward\t 33728 natural end\n",
      "Episode 957\t 2 steps \t0.0 total reward\t 33728 natural end\n",
      "Episode 958\t 2 steps \t0.0 total reward\t 33728 natural end\n",
      "Episode 959\t 2 steps \t0.0 total reward\t 33728 natural end\n",
      "Episode 960\t 2 steps \t0.0 total reward\t 33728 natural end\n",
      "Episode 961\t 2 steps \t0.0 total reward\t 33728 natural end\n",
      "Episode 962\t 2 steps \t0.0 total reward\t 33728 natural end\n",
      "Episode 963\t 2 steps \t0.0 total reward\t 33728 natural end\n",
      "Episode 964\t 2 steps \t0.0 total reward\t 33728 natural end\n",
      "Episode 965\t 2 steps \t0.0 total reward\t 33728 natural end\n",
      "Episode 966\t 2 steps \t0.0 total reward\t 33728 natural end\n",
      "Episode 967\t 2 steps \t0.0 total reward\t 33728 natural end\n",
      "Episode 968\t 2 steps \t0.0 total reward\t 33728 natural end\n",
      "Episode 969\t 2 steps \t0.0 total reward\t 33728 natural end\n",
      "Episode 970\t 2 steps \t0.0 total reward\t 33728 natural end\n",
      "Episode 971\t 2 steps \t0.0 total reward\t 33728 natural end\n",
      "Episode 972\t 2 steps \t0.0 total reward\t 33728 natural end\n",
      "Episode 973\t 2 steps \t0.0 total reward\t 33728 natural end\n",
      "Episode 974\t 2 steps \t0.0 total reward\t 33728 natural end\n",
      "Episode 975\t 2 steps \t0.0 total reward\t 33728 natural end\n",
      "Episode 976\t 2 steps \t0.0 total reward\t 33728 natural end\n",
      "Episode 977\t 2 steps \t0.0 total reward\t 33728 natural end\n",
      "Episode 978\t 2 steps \t0.0 total reward\t 33728 natural end\n",
      "Episode 979\t 2 steps \t0.0 total reward\t 33728 natural end\n",
      "Episode 980\t 2 steps \t0.0 total reward\t 33728 natural end\n",
      "Episode 981\t 2 steps \t0.0 total reward\t 33728 natural end\n",
      "Episode 982\t 2 steps \t0.0 total reward\t 33728 natural end\n",
      "Episode 983\t 2 steps \t0.0 total reward\t 33728 natural end\n",
      "Episode 984\t 2 steps \t0.0 total reward\t 33728 natural end\n",
      "Episode 985\t 2 steps \t0.0 total reward\t 33728 natural end\n",
      "Episode 986\t 2 steps \t0.0 total reward\t 33728 natural end\n",
      "Episode 987\t 2 steps \t0.0 total reward\t 33728 natural end\n",
      "Episode 988\t 2 steps \t0.0 total reward\t 33728 natural end\n",
      "Episode 989\t 2 steps \t0.0 total reward\t 33728 natural end\n",
      "Episode 990\t 2 steps \t0.0 total reward\t 33728 natural end\n",
      "Episode 991\t 2 steps \t0.0 total reward\t 33728 natural end\n",
      "Episode 992\t 2 steps \t0.0 total reward\t 33728 natural end\n",
      "Episode 993\t 2 steps \t0.0 total reward\t 33728 natural end\n",
      "Episode 994\t 2 steps \t0.0 total reward\t 33728 natural end\n",
      "Episode 995\t 2 steps \t0.0 total reward\t 33728 natural end\n",
      "Episode 996\t 2 steps \t0.0 total reward\t 33728 natural end\n",
      "Episode 997\t 2 steps \t0.0 total reward\t 33728 natural end\n",
      "Episode 998\t 2 steps \t0.0 total reward\t 33728 natural end\n",
      "Episode 999\t 2 steps \t0.0 total reward\t 33728 natural end\n"
     ]
    },
    {
     "data": {
      "text/plain": [
       "1049600"
      ]
     },
     "execution_count": 5,
     "metadata": {},
     "output_type": "execute_result"
    }
   ],
   "source": [
    "1024*1024+1024"
   ]
  },
  {
   "cell_type": "code",
   "execution_count": null,
   "metadata": {
    "collapsed": true
   },
   "outputs": [],
   "source": []
  }
 ],
 "metadata": {
  "kernelspec": {
   "display_name": "Python 2",
   "language": "python",
   "name": "python2"
  },
  "language_info": {
   "codemirror_mode": {
    "name": "ipython",
    "version": 2
   },
   "file_extension": ".py",
   "mimetype": "text/x-python",
   "name": "python",
   "nbconvert_exporter": "python",
   "pygments_lexer": "ipython2",
   "version": "2.7.10"
  }
 },
 "nbformat": 4,
 "nbformat_minor": 0
}
