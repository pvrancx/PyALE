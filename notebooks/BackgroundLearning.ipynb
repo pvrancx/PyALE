{
 "cells": [
  {
   "cell_type": "code",
   "execution_count": 3,
   "metadata": {
    "collapsed": false
   },
   "outputs": [],
   "source": [
    "import sys\n",
    "sys.path.append('/Users/pvrancx/Documents/Code/PyALE/src')"
   ]
  },
  {
   "cell_type": "code",
   "execution_count": 1,
   "metadata": {
    "collapsed": false
   },
   "outputs": [
    {
     "name": "stdout",
     "output_type": "stream",
     "text": [
      "Overwriting ../src/util/RLGlueRunner.py\n"
     ]
    }
   ],
   "source": [
    "%%writefile ../src/util/RLGlueRunner.py\n",
    "from multiprocessing import Process\n",
    "import os\n",
    "import rlglue.RLGlue as RLGlue\n",
    "from rlglue.agent import AgentLoader as AgentLoader\n",
    "\n",
    "\n",
    "\n",
    "def run_rlglue():\n",
    "    os.system('rl_glue')\n",
    "    \n",
    "def run_ale(ale_path,game):\n",
    "    ale_str = ''+ale_path + '/ale -display_screen false -game_controller rlglue -frame_skip 5 -disable_colour_averaging -use_environment_distribution '+ale_path +'/roms/'+game \n",
    "    os.system(ale_str)   \n",
    "\n",
    "def run_experiment(maxsteps=100,numeps=1):\n",
    "    taskSpec = RLGlue.RL_init()\n",
    "    for ep in range(numeps):\n",
    "        terminal=RLGlue.RL_episode(maxsteps)\n",
    "        totalSteps=RLGlue.RL_num_steps()\n",
    "        totalReward=RLGlue.RL_return()\n",
    "        print \"Episode \"+str(ep)+\"\\t \"+str(totalSteps)+ \" steps \\t\" + str(totalReward) + \" total reward\\t \" + str(terminal) + \" natural end\"\n",
    "    RLGlue.RL_cleanup()\n",
    "    \n",
    "def run_agent(agent=None):\n",
    "    AgentLoader.loadAgent(agent)\n",
    "    \n",
    "class RLGlueRunner(object):\n",
    "    procs = []\n",
    "    \n",
    "    def __init__(self,host='127.0.0.1',port='4096',ale_path = '.',\n",
    "                 game = 'space_invaders.bin',agent=None,num_eps=1,max_steps=100):\n",
    "        self.host = host\n",
    "        self.port = port\n",
    "        self.ale_path = ale_path\n",
    "        self.game = game\n",
    "        self.agent = agent\n",
    "        self.num_eps = num_eps\n",
    "        self.max_steps = max_steps\n",
    "        \n",
    "    def create_procs(self):\n",
    "        self.procs = []\n",
    "        self.procs.append(Process(target=run_rlglue))\n",
    "        self.procs.append(Process(target=run_ale,args=(self.ale_path,self.game)))\n",
    "        self.procs.append(Process(target=run_experiment,args=(self.max_steps,self.num_eps)))\n",
    "        self.procs.append(Process(target=run_agent,args=(self.agent,)))\n",
    "        \n",
    "    def run(self):\n",
    "        os.environ['RLGLUE_HOST'] = self.host\n",
    "        os.environ['RLGLUE_PORT'] = self.port\n",
    "        self.create_procs()\n",
    "        for p in self.procs:\n",
    "            p.start()\n",
    "            \n",
    "    def is_finished(self):\n",
    "        return reduce(lambda x,y: x and y,map(lambda x: not x.is_alive(),self.procs))\n",
    "                        \n",
    "    def terminate(self):\n",
    "        for p in self.procs:\n",
    "            p.terminate()\n",
    "    "
   ]
  },
  {
   "cell_type": "code",
   "execution_count": 51,
   "metadata": {
    "collapsed": false
   },
   "outputs": [],
   "source": [
    "from agents.ALEBackgroundAgent import ALEBackgroundAgent\n",
    "\n",
    "agent= ALEBackgroundAgent(log_name='data/si_bg.pkl')\n",
    "runner= RLGlueRunner(ale_path ='~/Documents/Projects/ALE',agent=agent,num_eps=100,max_steps=2000)\n",
    "runner.run()"
   ]
  },
  {
   "cell_type": "code",
   "execution_count": 2,
   "metadata": {
    "collapsed": false
   },
   "outputs": [
    {
     "ename": "NameError",
     "evalue": "name 'runner' is not defined",
     "output_type": "error",
     "traceback": [
      "\u001b[0;31m---------------------------------------------------------------------------\u001b[0m",
      "\u001b[0;31mNameError\u001b[0m                                 Traceback (most recent call last)",
      "\u001b[0;32m<ipython-input-2-72fe70d735a3>\u001b[0m in \u001b[0;36m<module>\u001b[0;34m()\u001b[0m\n\u001b[0;32m----> 1\u001b[0;31m \u001b[0mrunner\u001b[0m\u001b[0;34m.\u001b[0m\u001b[0mis_finished\u001b[0m\u001b[0;34m(\u001b[0m\u001b[0;34m)\u001b[0m\u001b[0;34m\u001b[0m\u001b[0m\n\u001b[0m",
      "\u001b[0;31mNameError\u001b[0m: name 'runner' is not defined"
     ]
    }
   ],
   "source": [
    "runner.is_finished()"
   ]
  },
  {
   "cell_type": "code",
   "execution_count": 64,
   "metadata": {
    "collapsed": false
   },
   "outputs": [],
   "source": [
    "import cPickle as pickle\n",
    "with open('data/si_bg.pkl','rb') as f:\n",
    "    bg = pickle.load(f)"
   ]
  },
  {
   "cell_type": "code",
   "execution_count": 89,
   "metadata": {
    "collapsed": false
   },
   "outputs": [
    {
     "data": {
      "text/plain": [
       "<matplotlib.image.AxesImage at 0x1108bfa50>"
      ]
     },
     "execution_count": 89,
     "metadata": {},
     "output_type": "execute_result"
    },
    {
     "data": {
      "image/png": "[encoded data removed]",
      "text/plain": [
       "<matplotlib.figure.Figure at 0x110866310>"
      ]
     },
     "metadata": {},
     "output_type": "display_data"
    }
   ],
   "source": [
    "%matplotlib inline\n",
    "import matplotlib.pyplot as plt\n",
    "from util.palettes import pal_palette\n",
    "from agents.ALEVisionAgent import ALEVisionAgent\n",
    "plt.imshow(agent.as_RGB(bg.reshape((210,160))))"
   ]
  }
 ],
 "metadata": {
  "kernelspec": {
   "display_name": "Python 2",
   "language": "python",
   "name": "python2"
  },
  "language_info": {
   "codemirror_mode": {
    "name": "ipython",
    "version": 2
   },
   "file_extension": ".py",
   "mimetype": "text/x-python",
   "name": "python",
   "nbconvert_exporter": "python",
   "pygments_lexer": "ipython2",
   "version": "2.7.10"
  }
 },
 "nbformat": 4,
 "nbformat_minor": 0
}
